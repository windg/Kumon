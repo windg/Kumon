{
 "cells": [
  {
   "cell_type": "code",
   "execution_count": 65,
   "metadata": {},
   "outputs": [
    {
     "data": {
      "text/plain": [
       "''"
      ]
     },
     "execution_count": 65,
     "metadata": {},
     "output_type": "execute_result"
    }
   ],
   "source": [
    "from fpdf import FPDF\n",
    "import random\n",
    "pdf_w = 210\n",
    "pdf_h = 250\n",
    "n_row = 6\n",
    "n_col = 5\n",
    "cell_w = pdf_w/n_col\n",
    "cell_h = pdf_h/n_row\n",
    "class PDF(FPDF):\n",
    "     def draw(self,q_type,digit):\n",
    "            self.set_line_width(0.0)\n",
    "            for row_idx in range(n_row):\n",
    "                for col_idx in range(n_col):\n",
    "                    origin = [cell_w*col_idx, cell_h*row_idx]\n",
    "                    x1 = origin[0]+cell_w/10\n",
    "                    x2 = x1+cell_w/5*4\n",
    "                    y1 = origin[1]+cell_h/5*4\n",
    "                    y2 = y1\n",
    "                    self.line(x1,y1,x2,y2 )\n",
    "                    \n",
    "                    self.set_xy(origin[0]+cell_w/10,origin[1]+cell_h/5*3)\n",
    "#                     self.image('division.png',w=cell_h*0.2, h=cell_h*0.2)\n",
    "                    self.set_font('Arial', 'B', 24)\n",
    "#                     self.set_text_color(220, 50, 50)\n",
    "                    a = random.randint(1,10**digit-1)\n",
    "                    b = random.randint(1,10**digit-1)\n",
    "                    if q_type == '-':\n",
    "                        a, b = max(a,b), min(a,b)\n",
    "                    \n",
    "    \n",
    "                    txt1 = \"{}\".format(a)\n",
    "                    txt2 = \"{}  {}\".format(q_type,b)\n",
    "                    self.set_xy(origin[0]+cell_w/2,origin[1]+cell_h/5*2)\n",
    "                    self.cell(w=cell_h*0.2, h=cell_h*0.2, align='R', txt=txt1,border=0)\n",
    "                    self.set_xy(origin[0]+cell_w/2,origin[1]+cell_h/5*3)\n",
    "                    self.cell(w=cell_h*0.2, h=cell_h*0.2, align='R', txt=txt2,border=0)\n",
    "\n",
    "pdf = PDF(unit='mm',format='Letter')#pdf objec\n",
    "for i in range(10):\n",
    "    pdf.add_page()\n",
    "    pdf.draw(q_type='+',digit=2)\n",
    "pdf.output('test.pdf','F')"
   ]
  },
  {
   "cell_type": "code",
   "execution_count": 2,
   "metadata": {},
   "outputs": [
    {
     "data": {
      "text/plain": [
       "''"
      ]
     },
     "execution_count": 2,
     "metadata": {},
     "output_type": "execute_result"
    }
   ],
   "source": [
    "import tkinter as tk\n",
    "r = tk.Tk()\n",
    "r.title('Kumon generator')\n",
    "\n"
   ]
  }
 ],
 "metadata": {
  "kernelspec": {
   "display_name": "General",
   "language": "python",
   "name": "general"
  },
  "language_info": {
   "codemirror_mode": {
    "name": "ipython",
    "version": 3
   },
   "file_extension": ".py",
   "mimetype": "text/x-python",
   "name": "python",
   "nbconvert_exporter": "python",
   "pygments_lexer": "ipython3",
   "version": "3.8.5"
  }
 },
 "nbformat": 4,
 "nbformat_minor": 4
}
